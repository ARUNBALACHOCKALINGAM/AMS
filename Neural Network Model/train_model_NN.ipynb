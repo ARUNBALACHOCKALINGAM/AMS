{
  "nbformat": 4,
  "nbformat_minor": 0,
  "metadata": {
    "colab": {
      "name": "Untitled6.ipynb",
      "provenance": [],
      "toc_visible": true
    },
    "kernelspec": {
      "name": "python3",
      "display_name": "Python 3"
    }
  },
  "cells": [
    {
      "cell_type": "code",
      "metadata": {
        "id": "25fZh19_Csar",
        "colab": {
          "base_uri": "https://localhost:8080/"
        },
        "outputId": "b6969a19-ff98-48fe-8c07-3938918fe1d5"
      },
      "source": [
        "!git clone https://github.com/Jaish19/Artificial-Intelligence.git"
      ],
      "execution_count": 2,
      "outputs": [
        {
          "output_type": "stream",
          "name": "stdout",
          "text": [
            "Cloning into 'Artificial-Intelligence'...\n",
            "remote: Enumerating objects: 1753, done.\u001b[K\n",
            "remote: Counting objects: 100% (82/82), done.\u001b[K\n",
            "remote: Compressing objects: 100% (81/81), done.\u001b[K\n",
            "remote: Total 1753 (delta 37), reused 0 (delta 0), pack-reused 1671 (from 1)\u001b[K\n",
            "Receiving objects: 100% (1753/1753), 32.28 MiB | 25.78 MiB/s, done.\n",
            "Resolving deltas: 100% (172/172), done.\n"
          ]
        }
      ]
    },
    {
      "cell_type": "code",
      "metadata": {
        "id": "XgBR5tyJCvr8",
        "colab": {
          "base_uri": "https://localhost:8080/"
        },
        "collapsed": true,
        "outputId": "469b6806-a501-49f3-aed9-0894cc68f0ae"
      },
      "source": [
        "import pandas as pd\n",
        "from tensorflow.keras.models import Sequential\n",
        "from tensorflow.keras.layers import Conv2D\n",
        "from tensorflow.keras.layers import MaxPool2D\n",
        "from tensorflow.keras.layers import Flatten\n",
        "from tensorflow.keras.layers import Dense\n",
        "from sklearn.model_selection import train_test_split\n",
        "from sklearn.preprocessing import MinMaxScaler\n",
        "import joblib\n",
        "from sklearn.metrics import mean_absolute_error\n",
        "\n",
        "# Disable some useless pandas warnings to prevent some junk from showing up in the output window\n",
        "pd.options.mode.chained_assignment = None\n",
        "\n",
        "# Load our data set\n",
        "df = pd.read_csv(\"/content/Artificial-Intelligence/Neural Network Model/house_data.csv\")\n",
        "\n",
        "# Create the X and y arrays\n",
        "X = df[[\"sq_feet\", \"num_bedrooms\", \"num_bathrooms\"]]\n",
        "y = df[[\"sale_price\"]]\n",
        "\n",
        "# Data needs to be scaled to  0 to 1 for the neural network to train correctly.\n",
        "X_scaler = MinMaxScaler(feature_range=(0, 1))\n",
        "y_scaler = MinMaxScaler(feature_range=(0, 1))\n",
        "\n",
        "# Scale both the training inputs and outputs\n",
        "X[X.columns] = X_scaler.fit_transform(X[X.columns])\n",
        "y[y.columns] = y_scaler.fit_transform(y[y.columns])\n",
        "\n",
        "# Split the data set in a training set (75%) and a test set (25%)\n",
        "X_train, X_test, y_train, y_test = train_test_split(X, y, test_size=0.25)\n",
        "\n",
        "# Create a Neural Network model\n",
        "model = Sequential()\n",
        "model.add(Dense(50, input_dim=3, activation='relu'))\n",
        "model.add(Dense(100, activation='relu'))\n",
        "model.add(Dense(50, activation='relu'))\n",
        "model.add(Dense(1, activation='linear'))\n",
        "model.compile(\n",
        "    loss='mean_squared_error',\n",
        "    optimizer='SGD'\n",
        ")\n",
        "\n",
        "# Train the model\n",
        "model.fit(\n",
        "    X_train,\n",
        "    y_train,\n",
        "    epochs=50,\n",
        "    batch_size=8,\n",
        "    shuffle=True,\n",
        "    verbose=2\n",
        ")\n",
        "\n",
        "# Save the scalers to files so we can use it to pre-process new data later\n",
        "joblib.dump(X_scaler, \"/content/Artificial-Intelligence/Neural Network Model/X_scaler.pkl\")\n",
        "joblib.dump(y_scaler, \"/content/Artificial-Intelligence/Neural Network Model/y_scaler.pkl\")\n",
        "\n",
        "# Save the trained model to a file so we can use it to make predictions later\n",
        "model.save(\"/content/Artificial-Intelligence/Neural Network Model/house_value_model.h5\")\n",
        "\n",
        "# Report how well the model is performing\n",
        "print(\"Model training results:\")\n",
        "\n",
        "# Report mean absolute error on the training set in a value scaled back to dollars so it's easier to understand.\n",
        "predictions_train = model.predict(X_train, verbose=0)\n",
        "\n",
        "mse_train = mean_absolute_error(\n",
        "    y_scaler.inverse_transform(predictions_train),\n",
        "    y_scaler.inverse_transform(y_train)\n",
        ")\n",
        "print(f\" - Training Set Error: {mse_train}\")\n",
        "\n",
        "# Report mean absolute error on the test set in a value scaled back to dollars so it's easier to understand.\n",
        "predictions_test = model.predict(X_test, verbose=0)\n",
        "\n",
        "mse_test = mean_absolute_error(\n",
        "    y_scaler.inverse_transform(predictions_test),\n",
        "    y_scaler.inverse_transform(y_test)\n",
        ")\n",
        "\n",
        "print(f\" - Test Set Error: {mse_test}\")\n",
        "\n",
        "\n",
        "import numpy as np\n",
        "import joblib\n",
        "from tensorflow.keras.models import load_model\n",
        "\n",
        "# Load the saved scalers and model\n",
        "X_scaler = joblib.load(\"/content/Artificial-Intelligence/Neural Network Model/X_scaler.pkl\")\n",
        "y_scaler = joblib.load(\"/content/Artificial-Intelligence/Neural Network Model/y_scaler.pkl\")\n",
        "model = load_model(\"/content/Artificial-Intelligence/Neural Network Model/house_value_model.h5\")\n",
        "\n",
        "# Define a single new data point (sq_feet, num_bedrooms, num_bathrooms)\n",
        "new_data = np.array([[1500, 3, 2]])  # Example input\n",
        "\n",
        "# Scale the input data\n",
        "new_data_scaled = X_scaler.transform(new_data)\n",
        "\n",
        "# Make prediction\n",
        "predicted_scaled = model.predict(new_data_scaled, verbose=0)\n",
        "\n",
        "# Convert prediction back to the original scale\n",
        "predicted_price = y_scaler.inverse_transform(predicted_scaled)\n",
        "\n",
        "# Print the result\n",
        "print(f\"Predicted House Price: ${predicted_price[0][0]:,.2f}\")\n"
      ],
      "execution_count": 5,
      "outputs": [
        {
          "output_type": "stream",
          "name": "stdout",
          "text": [
            "Epoch 1/50\n"
          ]
        },
        {
          "output_type": "stream",
          "name": "stderr",
          "text": [
            "/usr/local/lib/python3.11/dist-packages/keras/src/layers/core/dense.py:87: UserWarning: Do not pass an `input_shape`/`input_dim` argument to a layer. When using Sequential models, prefer using an `Input(shape)` object as the first layer in the model instead.\n",
            "  super().__init__(activity_regularizer=activity_regularizer, **kwargs)\n"
          ]
        },
        {
          "output_type": "stream",
          "name": "stdout",
          "text": [
            "938/938 - 2s - 2ms/step - loss: 0.0092\n",
            "Epoch 2/50\n",
            "938/938 - 2s - 3ms/step - loss: 4.3083e-04\n",
            "Epoch 3/50\n",
            "938/938 - 3s - 4ms/step - loss: 3.6529e-04\n",
            "Epoch 4/50\n",
            "938/938 - 2s - 2ms/step - loss: 3.5428e-04\n",
            "Epoch 5/50\n",
            "938/938 - 2s - 2ms/step - loss: 3.4808e-04\n",
            "Epoch 6/50\n",
            "938/938 - 2s - 2ms/step - loss: 3.4291e-04\n",
            "Epoch 7/50\n",
            "938/938 - 3s - 3ms/step - loss: 3.3994e-04\n",
            "Epoch 8/50\n",
            "938/938 - 3s - 3ms/step - loss: 3.3905e-04\n",
            "Epoch 9/50\n",
            "938/938 - 2s - 2ms/step - loss: 3.3617e-04\n",
            "Epoch 10/50\n",
            "938/938 - 2s - 2ms/step - loss: 3.3507e-04\n",
            "Epoch 11/50\n",
            "938/938 - 3s - 3ms/step - loss: 3.3286e-04\n",
            "Epoch 12/50\n",
            "938/938 - 2s - 2ms/step - loss: 3.3300e-04\n",
            "Epoch 13/50\n",
            "938/938 - 2s - 2ms/step - loss: 3.3129e-04\n",
            "Epoch 14/50\n",
            "938/938 - 4s - 4ms/step - loss: 3.3054e-04\n",
            "Epoch 15/50\n",
            "938/938 - 4s - 4ms/step - loss: 3.3028e-04\n",
            "Epoch 16/50\n",
            "938/938 - 3s - 3ms/step - loss: 3.2978e-04\n",
            "Epoch 17/50\n",
            "938/938 - 3s - 3ms/step - loss: 3.2911e-04\n",
            "Epoch 18/50\n",
            "938/938 - 4s - 4ms/step - loss: 3.2877e-04\n",
            "Epoch 19/50\n",
            "938/938 - 2s - 2ms/step - loss: 3.2816e-04\n",
            "Epoch 20/50\n",
            "938/938 - 3s - 3ms/step - loss: 3.2809e-04\n",
            "Epoch 21/50\n",
            "938/938 - 2s - 2ms/step - loss: 3.2773e-04\n",
            "Epoch 22/50\n",
            "938/938 - 2s - 2ms/step - loss: 3.2637e-04\n",
            "Epoch 23/50\n",
            "938/938 - 2s - 2ms/step - loss: 3.2627e-04\n",
            "Epoch 24/50\n",
            "938/938 - 4s - 5ms/step - loss: 3.2772e-04\n",
            "Epoch 25/50\n",
            "938/938 - 3s - 4ms/step - loss: 3.2524e-04\n",
            "Epoch 26/50\n",
            "938/938 - 2s - 3ms/step - loss: 3.2679e-04\n",
            "Epoch 27/50\n",
            "938/938 - 2s - 3ms/step - loss: 3.2566e-04\n",
            "Epoch 28/50\n",
            "938/938 - 3s - 4ms/step - loss: 3.2556e-04\n",
            "Epoch 29/50\n",
            "938/938 - 2s - 2ms/step - loss: 3.2510e-04\n",
            "Epoch 30/50\n",
            "938/938 - 2s - 2ms/step - loss: 3.2586e-04\n",
            "Epoch 31/50\n",
            "938/938 - 2s - 3ms/step - loss: 3.2508e-04\n",
            "Epoch 32/50\n",
            "938/938 - 3s - 3ms/step - loss: 3.2434e-04\n",
            "Epoch 33/50\n",
            "938/938 - 2s - 2ms/step - loss: 3.2448e-04\n",
            "Epoch 34/50\n",
            "938/938 - 3s - 3ms/step - loss: 3.2384e-04\n",
            "Epoch 35/50\n",
            "938/938 - 2s - 2ms/step - loss: 3.2419e-04\n",
            "Epoch 36/50\n",
            "938/938 - 2s - 2ms/step - loss: 3.2374e-04\n",
            "Epoch 37/50\n",
            "938/938 - 2s - 3ms/step - loss: 3.2529e-04\n",
            "Epoch 38/50\n",
            "938/938 - 3s - 3ms/step - loss: 3.2429e-04\n",
            "Epoch 39/50\n",
            "938/938 - 2s - 2ms/step - loss: 3.2468e-04\n",
            "Epoch 40/50\n",
            "938/938 - 3s - 3ms/step - loss: 3.2451e-04\n",
            "Epoch 41/50\n",
            "938/938 - 2s - 2ms/step - loss: 3.2459e-04\n",
            "Epoch 42/50\n",
            "938/938 - 2s - 2ms/step - loss: 3.2513e-04\n",
            "Epoch 43/50\n",
            "938/938 - 2s - 2ms/step - loss: 3.2346e-04\n",
            "Epoch 44/50\n",
            "938/938 - 3s - 3ms/step - loss: 3.2436e-04\n",
            "Epoch 45/50\n",
            "938/938 - 4s - 4ms/step - loss: 3.2302e-04\n",
            "Epoch 46/50\n",
            "938/938 - 2s - 2ms/step - loss: 3.2486e-04\n",
            "Epoch 47/50\n",
            "938/938 - 3s - 3ms/step - loss: 3.2375e-04\n",
            "Epoch 48/50\n",
            "938/938 - 3s - 3ms/step - loss: 3.2355e-04\n",
            "Epoch 49/50\n",
            "938/938 - 2s - 2ms/step - loss: 3.2445e-04\n",
            "Epoch 50/50\n",
            "938/938 - 3s - 3ms/step - loss: 3.2349e-04\n"
          ]
        },
        {
          "output_type": "stream",
          "name": "stderr",
          "text": [
            "WARNING:absl:You are saving your model as an HDF5 file via `model.save()` or `keras.saving.save_model(model)`. This file format is considered legacy. We recommend using instead the native Keras format, e.g. `model.save('my_model.keras')` or `keras.saving.save_model(model, 'my_model.keras')`. \n"
          ]
        },
        {
          "output_type": "stream",
          "name": "stdout",
          "text": [
            "Model training results:\n",
            " - Training Set Error: 9909.524207291663\n"
          ]
        },
        {
          "output_type": "stream",
          "name": "stderr",
          "text": [
            "WARNING:absl:Compiled the loaded model, but the compiled metrics have yet to be built. `model.compile_metrics` will be empty until you train or evaluate the model.\n"
          ]
        },
        {
          "output_type": "stream",
          "name": "stdout",
          "text": [
            " - Test Set Error: 9952.221299999996\n",
            "Predicted House Price: $297,913.59\n"
          ]
        },
        {
          "output_type": "stream",
          "name": "stderr",
          "text": [
            "/usr/local/lib/python3.11/dist-packages/sklearn/utils/validation.py:2739: UserWarning: X does not have valid feature names, but MinMaxScaler was fitted with feature names\n",
            "  warnings.warn(\n"
          ]
        }
      ]
    }
  ]
}